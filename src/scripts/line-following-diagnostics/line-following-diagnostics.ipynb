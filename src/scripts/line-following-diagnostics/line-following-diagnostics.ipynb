{
 "metadata": {
  "language_info": {
   "codemirror_mode": {
    "name": "ipython",
    "version": 3
   },
   "file_extension": ".py",
   "mimetype": "text/x-python",
   "name": "python",
   "nbconvert_exporter": "python",
   "pygments_lexer": "ipython3",
   "version": "3.7.0"
  },
  "orig_nbformat": 4,
  "kernelspec": {
   "name": "python3",
   "display_name": "Python 3.7.0 64-bit ('python')"
  },
  "interpreter": {
   "hash": "df955ce39d0f31d56d4bb2fe0a613e5326ba60723fd33d8303a3aede8f65715c"
  }
 },
 "nbformat": 4,
 "nbformat_minor": 2,
 "cells": [
  {
   "cell_type": "code",
   "execution_count": 1,
   "metadata": {},
   "outputs": [],
   "source": [
    "import json\n",
    "from matplotlib import pyplot as plt"
   ]
  },
  {
   "cell_type": "code",
   "execution_count": 2,
   "metadata": {},
   "outputs": [],
   "source": [
    "def load_data(filename):\n",
    "    with open(filename) as input_file:\n",
    "        return json.load(input_file)"
   ]
  },
  {
   "cell_type": "code",
   "execution_count": 16,
   "metadata": {},
   "outputs": [],
   "source": [
    "def plot_controller_data(filename, poll_period):\n",
    "    controller_data = load_data(filename)\n",
    "\n",
    "    time = [x * poll_period for x in range(len(controller_data))]\n",
    "    zeros = [0]*len(controller_data)\n",
    "    two_fifty_five = [255]*len(controller_data)\n",
    "    neg_two_fifty_five = [-255]*len(controller_data)\n",
    "    min_eff_speed = [controller_data[0]['data']['controller']['config']['minEffSpeed']]*len(controller_data)\n",
    "    max_eff_speed = [controller_data[0]['data']['controller']['config']['maxEffSpeed']]*len(controller_data)\n",
    "    neg_min_eff_speed = [-x for x in min_eff_speed]\n",
    "    neg_max_eff_speed = [-x for x in max_eff_speed]\n",
    "\n",
    "    error = [controller_data[x]['data']['controller']['state']['error'] for x in range(len(controller_data))]\n",
    "    previous_error = [controller_data[x]['data']['controller']['state']['previousError'] for x in range(len(controller_data))]\n",
    "\n",
    "    control_output = [controller_data[x]['data']['controller']['state']['controlOutput'] for x in range(len(controller_data))]\n",
    "\n",
    "    target_left_motor_velocity = [controller_data[x]['data']['controller']['state']['leftMotorVelocity'] for x in range(len(controller_data))]\n",
    "    target_right_motor_velocity = [controller_data[x]['data']['controller']['state']['rightMotorVelocity'] for x in range(len(controller_data))]\n",
    "\n",
    "    left_reflectance = [controller_data[x]['data']['reflectance']['left']['value'] for x in range(len(controller_data))]\n",
    "    right_reflectance = [controller_data[x]['data']['reflectance']['right']['value'] for x in range(len(controller_data))]\n",
    "\n",
    "    actual_left_motor_velocity = []\n",
    "    actual_right_motor_velocity = []\n",
    "    for datum in controller_data:\n",
    "        left_motor_speed = datum['data']['motors']['left']['speed']\n",
    "        right_motor_speed = datum['data']['motors']['right']['speed']\n",
    "        left_motor_velocity = left_motor_speed if datum['data']['motors']['left']['direction'] == 0 else -left_motor_speed\n",
    "        right_motor_velocity = right_motor_speed if datum['data']['motors']['right']['direction'] == 0 else -right_motor_speed\n",
    "        actual_left_motor_velocity.append(left_motor_velocity)\n",
    "        actual_right_motor_velocity.append(right_motor_velocity)\n",
    "\n",
    "    plt.rcParams[\"figure.figsize\"] = (30,30)\n",
    "    fig, axs = plt.subplots(5)\n",
    "    plt.subplots_adjust(left=None, bottom=None, right=None, top=None, wspace=None, hspace=0.4)\n",
    "    plt.rcParams.update({'font.size': 20})\n",
    "    fig.suptitle('Line Follower Controller Data from ' + filename)\n",
    "\n",
    "    axs[0].set_title('Left and Right Reflectance Values Vs. Time')\n",
    "    axs[0].set_xlabel('Time (s)')\n",
    "    axs[0].set_ylabel('Reflectance')\n",
    "    axs[0].plot(time, left_reflectance, label='left')\n",
    "    axs[0].plot(time, right_reflectance, label='right')\n",
    "    axs[0].legend(loc='upper right')\n",
    "\n",
    "    axs[1].set_title('\\\"error\\\" and \\\"previousError\\\" Vs. Time')\n",
    "    axs[1].set_xlabel('Time (s)')\n",
    "    axs[1].set_ylabel('Error')\n",
    "    axs[1].plot(time, zeros, '--', color='black')\n",
    "    axs[1].plot(time, error, label='error')\n",
    "    axs[1].plot(time, previous_error, label='previousError')\n",
    "    axs[1].legend(loc='upper right')\n",
    "\n",
    "    axs[2].set_title('\\\"controlOutput\\\" Vs. Time')\n",
    "    axs[2].set_xlabel('Time (s)')\n",
    "    axs[2].set_ylabel('Control Output')\n",
    "    axs[2].plot(time, zeros, '--', color='black')\n",
    "    axs[2].plot(time, control_output)\n",
    "\n",
    "    axs[3].set_title('Target Motor Velocities Vs. Time')\n",
    "    axs[3].set_xlabel('Time (s)')\n",
    "    axs[3].set_ylabel('Velocity')\n",
    "    axs[3].plot(time, zeros, '--', color='black')\n",
    "    axs[3].plot(time, max_eff_speed, '--', color='red')\n",
    "    axs[3].plot(time, min_eff_speed, '--', color='green')\n",
    "    axs[3].plot(time, neg_min_eff_speed, '--', color='green')\n",
    "    axs[3].plot(time, neg_max_eff_speed, '--', color='red')\n",
    "    axs[3].plot(time, target_left_motor_velocity, label='left')\n",
    "    axs[3].plot(time, target_right_motor_velocity, label='right')\n",
    "    axs[3].legend(loc='upper right')\n",
    "\n",
    "    axs[4].set_title('Actual Motor Velocities Vs. Time')\n",
    "    axs[4].set_xlabel('Time (s)')\n",
    "    axs[4].set_ylabel('Velocity')\n",
    "    axs[4].plot(time, zeros, '--', color='black')\n",
    "    axs[4].plot(time, max_eff_speed, '--', color='red')\n",
    "    axs[4].plot(time, min_eff_speed, '--', color='green')\n",
    "    axs[4].plot(time, neg_min_eff_speed, '--', color='green')\n",
    "    axs[4].plot(time, neg_max_eff_speed, '--', color='red')\n",
    "    axs[4].plot(time, actual_left_motor_velocity, label='left')\n",
    "    axs[4].plot(time, actual_right_motor_velocity, label='right')\n",
    "    axs[4].legend(loc='upper right')"
   ]
  },
  {
   "cell_type": "code",
   "execution_count": null,
   "metadata": {},
   "outputs": [],
   "source": []
  }
 ]
}